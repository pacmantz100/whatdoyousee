{
 "cells": [
  {
   "cell_type": "code",
   "execution_count": 13,
   "metadata": {},
   "outputs": [],
   "source": [
    "def addDoors():\n",
    "    picker =  randint(0,1)\n",
    "    if picker == 1:\n",
    "        door1,door2,door3 = \"dragon\",\"goat\",\"goat\"\n",
    "    else:\n",
    "        door1 = \"goat\"\n",
    "        picker = randint(0,1)\n",
    "    if picker == 1:\n",
    "        door2,door3 = \"dragon\",\"goat\"\n",
    "    else:\n",
    "        door2,door3 = \"goat\",\"dragon\"\n",
    "    return [door1,door2,door3]"
   ]
  },
  {
   "cell_type": "code",
   "execution_count": 19,
   "metadata": {},
   "outputs": [],
   "source": [
    "def openGoatDoor(doors):\n",
    "    door = \"\"\n",
    "    while door != \"goat\":\n",
    "        doorNumber = randint(0,2)\n",
    "        door = doors[doorNumber]\n",
    "    return doorNumber"
   ]
  },
  {
   "cell_type": "code",
   "execution_count": 22,
   "metadata": {},
   "outputs": [],
   "source": [
    "def montyhall(doorNumber,switchOk):\n",
    "    doors = addDoors()\n",
    "    goatDoor = addDoors()\n",
    "    while goatDoor == doorNumber:\n",
    "        goatDoor = openGoatDoor(doors)\n",
    "    if switchOk == \"yes\":\n",
    "        doorNumber = [y for y in range(2) if y not in [doorNumber,goatDoor]]\n",
    "        return doors[doorNumber[0]]\n",
    "    else:\n",
    "        return doors[doorNumber]"
   ]
  },
  {
   "cell_type": "code",
   "execution_count": 23,
   "metadata": {},
   "outputs": [
    {
     "ename": "SyntaxError",
     "evalue": "Missing parentheses in call to 'print'. Did you mean print(\"Dragons:\",wondragon)? (<ipython-input-23-9aacf65a3f33>, line 9)",
     "output_type": "error",
     "traceback": [
      "\u001b[1;36m  File \u001b[1;32m\"<ipython-input-23-9aacf65a3f33>\"\u001b[1;36m, line \u001b[1;32m9\u001b[0m\n\u001b[1;33m    print \"Dragons:\",wondragon\u001b[0m\n\u001b[1;37m                   ^\u001b[0m\n\u001b[1;31mSyntaxError\u001b[0m\u001b[1;31m:\u001b[0m Missing parentheses in call to 'print'. Did you mean print(\"Dragons:\",wondragon)?\n"
     ]
    }
   ],
   "source": [
    "def testMontyHall(playTimes,switch):\n",
    "    wondragon,wonGoat = 0,0\n",
    "    for i in range(playTimes):\n",
    "        prize = montyhall(randint(0,2),switch)\n",
    "        if prize == \"dragon\":\n",
    "                wondragon += 1\n",
    "        else:\n",
    "                wonGoat += 1\n",
    "    print \"Dragons:\",wondragon\n",
    "    print \"Goat:\",wonGoat"
   ]
  }
 ],
 "metadata": {
  "kernelspec": {
   "display_name": "Python 3",
   "language": "python",
   "name": "python3"
  },
  "language_info": {
   "codemirror_mode": {
    "name": "ipython",
    "version": 3
   },
   "file_extension": ".py",
   "mimetype": "text/x-python",
   "name": "python",
   "nbconvert_exporter": "python",
   "pygments_lexer": "ipython3",
   "version": "3.6.5"
  }
 },
 "nbformat": 4,
 "nbformat_minor": 2
}
